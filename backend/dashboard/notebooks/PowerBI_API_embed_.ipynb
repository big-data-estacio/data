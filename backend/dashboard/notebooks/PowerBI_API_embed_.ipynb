{
 "cells": [
  {
   "attachments": {},
   "cell_type": "markdown",
   "id": "9a86ee44",
   "metadata": {},
   "source": [
    "# Using Power BI API to access and edit reports"
   ]
  },
  {
   "attachments": {},
   "cell_type": "markdown",
   "id": "43eca61a",
   "metadata": {},
   "source": [
    "Requirements"
   ]
  },
  {
   "cell_type": "code",
   "execution_count": 1,
   "id": "86bd2ae8",
   "metadata": {},
   "outputs": [
    {
     "name": "stdout",
     "output_type": "stream",
     "text": [
      "Collecting python-power-bi\n",
      "  Downloading python_power_bi-0.1.2-py3-none-any.whl (29 kB)\n",
      "Requirement already satisfied: requests in /usr/local/lib/python3.8/dist-packages (from python-power-bi) (2.28.2)\n",
      "Collecting msal\n",
      "  Downloading msal-1.22.0-py2.py3-none-any.whl (90 kB)\n",
      "\u001b[K     |████████████████████████████████| 90 kB 2.2 MB/s eta 0:00:01\n",
      "\u001b[?25hRequirement already satisfied: urllib3<1.27,>=1.21.1 in /usr/local/lib/python3.8/dist-packages (from requests->python-power-bi) (1.26.15)\n",
      "Requirement already satisfied: certifi>=2017.4.17 in /usr/local/lib/python3.8/dist-packages (from requests->python-power-bi) (2022.12.7)\n",
      "Requirement already satisfied: charset-normalizer<4,>=2 in /home/estevam/.local/lib/python3.8/site-packages (from requests->python-power-bi) (3.1.0)\n",
      "Requirement already satisfied: idna<4,>=2.5 in /usr/local/lib/python3.8/dist-packages (from requests->python-power-bi) (3.4)\n",
      "Requirement already satisfied: PyJWT[crypto]<3,>=1.0.0 in /usr/lib/python3/dist-packages (from msal->python-power-bi) (1.7.1)\n",
      "Requirement already satisfied: cryptography<43,>=0.6 in /usr/lib/python3/dist-packages (from msal->python-power-bi) (2.8)\n",
      "Installing collected packages: msal, python-power-bi\n",
      "Successfully installed msal-1.22.0 python-power-bi-0.1.2\n",
      "Note: you may need to restart the kernel to use updated packages.\n"
     ]
    }
   ],
   "source": [
    "pip install python-power-bi"
   ]
  },
  {
   "cell_type": "code",
   "execution_count": 2,
   "id": "af1b00db",
   "metadata": {},
   "outputs": [
    {
     "name": "stdout",
     "output_type": "stream",
     "text": [
      "Collecting powerbiclient\n",
      "  Downloading powerbiclient-3.0.0-py2.py3-none-any.whl (672 kB)\n",
      "\u001b[K     |████████████████████████████████| 672 kB 1.7 MB/s eta 0:00:01\n",
      "\u001b[?25hRequirement already satisfied: requests>=2.25.1 in /usr/local/lib/python3.8/dist-packages (from powerbiclient) (2.28.2)\n",
      "Requirement already satisfied: msal>=1.8.0 in /home/estevam/.local/lib/python3.8/site-packages (from powerbiclient) (1.22.0)\n",
      "Requirement already satisfied: pandas in /usr/local/lib/python3.8/dist-packages (from powerbiclient) (1.5.3)\n",
      "Collecting jupyter-ui-poll>=0.1.2\n",
      "  Downloading jupyter_ui_poll-0.2.2-py2.py3-none-any.whl (9.0 kB)\n",
      "Collecting ipywidgets>=7.0.0\n",
      "  Using cached ipywidgets-8.0.6-py3-none-any.whl (138 kB)\n",
      "Requirement already satisfied: charset-normalizer<4,>=2 in /home/estevam/.local/lib/python3.8/site-packages (from requests>=2.25.1->powerbiclient) (3.1.0)\n",
      "Requirement already satisfied: urllib3<1.27,>=1.21.1 in /usr/local/lib/python3.8/dist-packages (from requests>=2.25.1->powerbiclient) (1.26.15)\n",
      "Requirement already satisfied: idna<4,>=2.5 in /usr/local/lib/python3.8/dist-packages (from requests>=2.25.1->powerbiclient) (3.4)\n",
      "Requirement already satisfied: certifi>=2017.4.17 in /usr/local/lib/python3.8/dist-packages (from requests>=2.25.1->powerbiclient) (2022.12.7)\n",
      "Requirement already satisfied: PyJWT[crypto]<3,>=1.0.0 in /usr/lib/python3/dist-packages (from msal>=1.8.0->powerbiclient) (1.7.1)\n",
      "Requirement already satisfied: cryptography<43,>=0.6 in /usr/lib/python3/dist-packages (from msal>=1.8.0->powerbiclient) (2.8)\n",
      "Requirement already satisfied: pytz>=2020.1 in /usr/local/lib/python3.8/dist-packages (from pandas->powerbiclient) (2022.7.1)\n",
      "Requirement already satisfied: numpy>=1.20.3; python_version < \"3.10\" in /home/estevam/.local/lib/python3.8/site-packages (from pandas->powerbiclient) (1.24.2)\n",
      "Requirement already satisfied: python-dateutil>=2.8.1 in /home/estevam/.local/lib/python3.8/site-packages (from pandas->powerbiclient) (2.8.2)\n",
      "Requirement already satisfied: ipython in /home/estevam/.local/lib/python3.8/site-packages (from jupyter-ui-poll>=0.1.2->powerbiclient) (8.11.0)\n",
      "Collecting jupyterlab-widgets~=3.0.7\n",
      "  Using cached jupyterlab_widgets-3.0.7-py3-none-any.whl (198 kB)\n",
      "Requirement already satisfied: traitlets>=4.3.1 in /home/estevam/.local/lib/python3.8/site-packages (from ipywidgets>=7.0.0->powerbiclient) (5.9.0)\n",
      "Requirement already satisfied: ipykernel>=4.5.1 in /home/estevam/.local/lib/python3.8/site-packages (from ipywidgets>=7.0.0->powerbiclient) (6.21.3)\n",
      "Collecting widgetsnbextension~=4.0.7\n",
      "  Using cached widgetsnbextension-4.0.7-py3-none-any.whl (2.1 MB)\n",
      "Requirement already satisfied: six>=1.5 in /usr/lib/python3/dist-packages (from python-dateutil>=2.8.1->pandas->powerbiclient) (1.14.0)\n",
      "Requirement already satisfied: matplotlib-inline in /home/estevam/.local/lib/python3.8/site-packages (from ipython->jupyter-ui-poll>=0.1.2->powerbiclient) (0.1.6)\n",
      "Requirement already satisfied: stack-data in /home/estevam/.local/lib/python3.8/site-packages (from ipython->jupyter-ui-poll>=0.1.2->powerbiclient) (0.6.2)\n",
      "Requirement already satisfied: pexpect>4.3; sys_platform != \"win32\" in /usr/lib/python3/dist-packages (from ipython->jupyter-ui-poll>=0.1.2->powerbiclient) (4.6.0)\n",
      "Requirement already satisfied: jedi>=0.16 in /home/estevam/.local/lib/python3.8/site-packages (from ipython->jupyter-ui-poll>=0.1.2->powerbiclient) (0.18.2)\n",
      "Requirement already satisfied: pickleshare in /home/estevam/.local/lib/python3.8/site-packages (from ipython->jupyter-ui-poll>=0.1.2->powerbiclient) (0.7.5)\n",
      "Requirement already satisfied: backcall in /home/estevam/.local/lib/python3.8/site-packages (from ipython->jupyter-ui-poll>=0.1.2->powerbiclient) (0.2.0)\n",
      "Requirement already satisfied: prompt-toolkit!=3.0.37,<3.1.0,>=3.0.30 in /home/estevam/.local/lib/python3.8/site-packages (from ipython->jupyter-ui-poll>=0.1.2->powerbiclient) (3.0.38)\n",
      "Requirement already satisfied: pygments>=2.4.0 in /home/estevam/.local/lib/python3.8/site-packages (from ipython->jupyter-ui-poll>=0.1.2->powerbiclient) (2.14.0)\n",
      "Requirement already satisfied: decorator in /home/estevam/.local/lib/python3.8/site-packages (from ipython->jupyter-ui-poll>=0.1.2->powerbiclient) (5.1.1)\n",
      "Requirement already satisfied: debugpy>=1.6.5 in /home/estevam/.local/lib/python3.8/site-packages (from ipykernel>=4.5.1->ipywidgets>=7.0.0->powerbiclient) (1.6.6)\n",
      "Requirement already satisfied: nest-asyncio in /home/estevam/.local/lib/python3.8/site-packages (from ipykernel>=4.5.1->ipywidgets>=7.0.0->powerbiclient) (1.5.6)\n",
      "Requirement already satisfied: jupyter-client>=6.1.12 in /home/estevam/.local/lib/python3.8/site-packages (from ipykernel>=4.5.1->ipywidgets>=7.0.0->powerbiclient) (8.0.3)\n",
      "Requirement already satisfied: packaging in /home/estevam/.local/lib/python3.8/site-packages (from ipykernel>=4.5.1->ipywidgets>=7.0.0->powerbiclient) (23.0)\n",
      "Requirement already satisfied: comm>=0.1.1 in /home/estevam/.local/lib/python3.8/site-packages (from ipykernel>=4.5.1->ipywidgets>=7.0.0->powerbiclient) (0.1.2)\n",
      "Requirement already satisfied: pyzmq>=20 in /home/estevam/.local/lib/python3.8/site-packages (from ipykernel>=4.5.1->ipywidgets>=7.0.0->powerbiclient) (25.0.1)\n",
      "Requirement already satisfied: jupyter-core!=5.0.*,>=4.12 in /home/estevam/.local/lib/python3.8/site-packages (from ipykernel>=4.5.1->ipywidgets>=7.0.0->powerbiclient) (5.3.0)\n",
      "Requirement already satisfied: psutil in /home/estevam/.local/lib/python3.8/site-packages (from ipykernel>=4.5.1->ipywidgets>=7.0.0->powerbiclient) (5.9.4)\n",
      "Requirement already satisfied: tornado>=6.1 in /home/estevam/.local/lib/python3.8/site-packages (from ipykernel>=4.5.1->ipywidgets>=7.0.0->powerbiclient) (6.2)\n",
      "Requirement already satisfied: asttokens>=2.1.0 in /home/estevam/.local/lib/python3.8/site-packages (from stack-data->ipython->jupyter-ui-poll>=0.1.2->powerbiclient) (2.2.1)\n",
      "Requirement already satisfied: pure-eval in /home/estevam/.local/lib/python3.8/site-packages (from stack-data->ipython->jupyter-ui-poll>=0.1.2->powerbiclient) (0.2.2)\n",
      "Requirement already satisfied: executing>=1.2.0 in /home/estevam/.local/lib/python3.8/site-packages (from stack-data->ipython->jupyter-ui-poll>=0.1.2->powerbiclient) (1.2.0)\n",
      "Requirement already satisfied: parso<0.9.0,>=0.8.0 in /home/estevam/.local/lib/python3.8/site-packages (from jedi>=0.16->ipython->jupyter-ui-poll>=0.1.2->powerbiclient) (0.8.3)\n",
      "Requirement already satisfied: wcwidth in /home/estevam/.local/lib/python3.8/site-packages (from prompt-toolkit!=3.0.37,<3.1.0,>=3.0.30->ipython->jupyter-ui-poll>=0.1.2->powerbiclient) (0.2.6)\n",
      "Requirement already satisfied: importlib-metadata>=4.8.3; python_version < \"3.10\" in /home/estevam/.local/lib/python3.8/site-packages (from jupyter-client>=6.1.12->ipykernel>=4.5.1->ipywidgets>=7.0.0->powerbiclient) (6.0.0)\n",
      "Requirement already satisfied: platformdirs>=2.5 in /home/estevam/.local/lib/python3.8/site-packages (from jupyter-core!=5.0.*,>=4.12->ipykernel>=4.5.1->ipywidgets>=7.0.0->powerbiclient) (3.1.1)\n",
      "Requirement already satisfied: zipp>=0.5 in /usr/lib/python3/dist-packages (from importlib-metadata>=4.8.3; python_version < \"3.10\"->jupyter-client>=6.1.12->ipykernel>=4.5.1->ipywidgets>=7.0.0->powerbiclient) (1.0.0)\n",
      "Installing collected packages: jupyter-ui-poll, jupyterlab-widgets, widgetsnbextension, ipywidgets, powerbiclient\n",
      "Successfully installed ipywidgets-8.0.6 jupyter-ui-poll-0.2.2 jupyterlab-widgets-3.0.7 powerbiclient-3.0.0 widgetsnbextension-4.0.7\n",
      "Note: you may need to restart the kernel to use updated packages.\n"
     ]
    }
   ],
   "source": [
    "pip install powerbiclient"
   ]
  },
  {
   "attachments": {},
   "cell_type": "markdown",
   "id": "eb203af4",
   "metadata": {},
   "source": [
    "N.B. Refrain from using jupyterlab for this one. For some reason, powerbiclient can't access reports with lab.\n",
    "Use Jupyternotebook for best performance."
   ]
  },
  {
   "cell_type": "code",
   "execution_count": 3,
   "id": "388f9f22",
   "metadata": {},
   "outputs": [],
   "source": [
    "from pprint import pprint\n",
    "from powerbi.client import PowerBiClient\n",
    "import json\n",
    "from powerbiclient import Report, models\n",
    "from io import StringIO"
   ]
  },
  {
   "attachments": {},
   "cell_type": "markdown",
   "id": "7d74fad4",
   "metadata": {},
   "source": [
    "Authorization process. I've hidden my client_id and client_secret. Kindly generate your own and use it here.\n",
    "Step by step guide to generate client_id and client_secret can be found in this video:\n",
    "    \n",
    "https://www.youtube.com/watch?v=_2eGAjm1I4w&t=1636s"
   ]
  },
  {
   "cell_type": "code",
   "execution_count": 4,
   "id": "df7514f0",
   "metadata": {},
   "outputs": [
    {
     "name": "stdout",
     "output_type": "stream",
     "text": [
      "Please go to URL provided authorize your account: https://login.microsoftonline.com/common/oauth2/v2.0/authorize?client_id=xxxxxxxx-xxxx-xxxx-xxxx-xxxxxxxxxxxx&response_type=code&redirect_uri=https%3A%2F%2Flocalhost%2Fredirect&scope=https%3A%2F%2Fanalysis.windows.net%2Fpowerbi%2Fapi%2F.default+offline_access+openid+profile&state=ypgfcgqlhy\n"
     ]
    },
    {
     "ename": "KeyError",
     "evalue": "'https://localhost/redirect?code'",
     "output_type": "error",
     "traceback": [
      "\u001b[0;31m---------------------------------------------------------------------------\u001b[0m",
      "\u001b[0;31mKeyError\u001b[0m                                  Traceback (most recent call last)",
      "Cell \u001b[0;32mIn[4], line 1\u001b[0m\n\u001b[0;32m----> 1\u001b[0m power_bi_client \u001b[39m=\u001b[39m PowerBiClient(\n\u001b[1;32m      2\u001b[0m   client_id\u001b[39m=\u001b[39;49m\u001b[39m'\u001b[39;49m\u001b[39mxxxxxxxx-xxxx-xxxx-xxxx-xxxxxxxxxxxx\u001b[39;49m\u001b[39m'\u001b[39;49m,\n\u001b[1;32m      3\u001b[0m   client_secret\u001b[39m=\u001b[39;49m\u001b[39m'\u001b[39;49m\u001b[39mxxxxxxxxxxxxxxxxxxxxxxxxxxxxxxxxxxxx\u001b[39;49m\u001b[39m'\u001b[39;49m,\n\u001b[1;32m      4\u001b[0m   scope\u001b[39m=\u001b[39;49m[\u001b[39m'\u001b[39;49m\u001b[39mhttps://analysis.windows.net/powerbi/api/.default\u001b[39;49m\u001b[39m'\u001b[39;49m],\n\u001b[1;32m      5\u001b[0m   redirect_uri\u001b[39m=\u001b[39;49m\u001b[39m'\u001b[39;49m\u001b[39mhttps://localhost/redirect\u001b[39;49m\u001b[39m'\u001b[39;49m,\n\u001b[1;32m      6\u001b[0m   credentials\u001b[39m=\u001b[39;49m\u001b[39mr\u001b[39;49m\u001b[39m'\u001b[39;49m\u001b[39mC:\u001b[39;49m\u001b[39m\\\u001b[39;49m\u001b[39mUsers\u001b[39;49m\u001b[39m\\\u001b[39;49m\u001b[39mUser\u001b[39;49m\u001b[39m\\\u001b[39;49m\u001b[39mDownloads\u001b[39;49m\u001b[39m\\\u001b[39;49m\u001b[39manscombe.json\u001b[39;49m\u001b[39m'\u001b[39;49m)\n",
      "File \u001b[0;32m~/.local/lib/python3.8/site-packages/powerbi/client.py:83\u001b[0m, in \u001b[0;36mPowerBiClient.__init__\u001b[0;34m(self, client_id, client_secret, redirect_uri, scope, account_type, credentials)\u001b[0m\n\u001b[1;32m     72\u001b[0m \u001b[39mself\u001b[39m\u001b[39m.\u001b[39mscope \u001b[39m=\u001b[39m scope\n\u001b[1;32m     74\u001b[0m \u001b[39mself\u001b[39m\u001b[39m.\u001b[39mpower_bi_auth_client \u001b[39m=\u001b[39m PowerBiAuth(\n\u001b[1;32m     75\u001b[0m     client_id\u001b[39m=\u001b[39m\u001b[39mself\u001b[39m\u001b[39m.\u001b[39mclient_id,\n\u001b[1;32m     76\u001b[0m     client_secret\u001b[39m=\u001b[39m\u001b[39mself\u001b[39m\u001b[39m.\u001b[39mclient_secret,\n\u001b[0;32m   (...)\u001b[0m\n\u001b[1;32m     80\u001b[0m     credentials\u001b[39m=\u001b[39m\u001b[39mself\u001b[39m\u001b[39m.\u001b[39mcredentials\n\u001b[1;32m     81\u001b[0m )\n\u001b[0;32m---> 83\u001b[0m \u001b[39mself\u001b[39;49m\u001b[39m.\u001b[39;49mpower_bi_auth_client\u001b[39m.\u001b[39;49mlogin()\n\u001b[1;32m     85\u001b[0m \u001b[39mself\u001b[39m\u001b[39m.\u001b[39mpower_bi_session \u001b[39m=\u001b[39m PowerBiSession(\n\u001b[1;32m     86\u001b[0m     client\u001b[39m=\u001b[39m\u001b[39mself\u001b[39m\u001b[39m.\u001b[39mpower_bi_auth_client\n\u001b[1;32m     87\u001b[0m )\n",
      "File \u001b[0;32m~/.local/lib/python3.8/site-packages/powerbi/auth.py:255\u001b[0m, in \u001b[0;36mPowerBiAuth.login\u001b[0;34m(self)\u001b[0m\n\u001b[1;32m    252\u001b[0m \u001b[39mself\u001b[39m\u001b[39m.\u001b[39m_redirect_code \u001b[39m=\u001b[39m my_response\n\u001b[1;32m    254\u001b[0m \u001b[39m# this will complete the final part of the authentication process.\u001b[39;00m\n\u001b[0;32m--> 255\u001b[0m \u001b[39mself\u001b[39;49m\u001b[39m.\u001b[39;49mgrab_access_token()\n\u001b[1;32m    257\u001b[0m \u001b[39m# Set the session.\u001b[39;00m\n\u001b[1;32m    258\u001b[0m \u001b[39mself\u001b[39m\u001b[39m.\u001b[39mpower_bi_session \u001b[39m=\u001b[39m PowerBiSession(client\u001b[39m=\u001b[39m\u001b[39mself\u001b[39m)\n",
      "File \u001b[0;32m~/.local/lib/python3.8/site-packages/powerbi/auth.py:298\u001b[0m, in \u001b[0;36mPowerBiAuth.grab_access_token\u001b[0;34m(self)\u001b[0m\n\u001b[1;32m    295\u001b[0m query_dict \u001b[39m=\u001b[39m urllib\u001b[39m.\u001b[39mparse\u001b[39m.\u001b[39mparse_qs(\u001b[39mself\u001b[39m\u001b[39m.\u001b[39m_redirect_code)\n\u001b[1;32m    297\u001b[0m \u001b[39m# Grab the Code.\u001b[39;00m\n\u001b[0;32m--> 298\u001b[0m code \u001b[39m=\u001b[39m query_dict[\u001b[39mself\u001b[39;49m\u001b[39m.\u001b[39;49mredirect_uri \u001b[39m+\u001b[39;49m \u001b[39m\"\u001b[39;49m\u001b[39m?code\u001b[39;49m\u001b[39m\"\u001b[39;49m]\n\u001b[1;32m    300\u001b[0m \u001b[39m# Grab the Token.\u001b[39;00m\n\u001b[1;32m    301\u001b[0m token_dict \u001b[39m=\u001b[39m \u001b[39mself\u001b[39m\u001b[39m.\u001b[39mclient_app\u001b[39m.\u001b[39macquire_token_by_authorization_code(\n\u001b[1;32m    302\u001b[0m     code\u001b[39m=\u001b[39mcode,\n\u001b[1;32m    303\u001b[0m     scopes\u001b[39m=\u001b[39m\u001b[39mself\u001b[39m\u001b[39m.\u001b[39mscope,\n\u001b[1;32m    304\u001b[0m     redirect_uri\u001b[39m=\u001b[39m\u001b[39mself\u001b[39m\u001b[39m.\u001b[39mredirect_uri\n\u001b[1;32m    305\u001b[0m )\n",
      "\u001b[0;31mKeyError\u001b[0m: 'https://localhost/redirect?code'"
     ]
    }
   ],
   "source": [
    "power_bi_client = PowerBiClient(\n",
    "  client_id='xxxxxxxx-xxxx-xxxx-xxxx-xxxxxxxxxxxx',\n",
    "  client_secret='xxxxxxxxxxxxxxxxxxxxxxxxxxxxxxxxxxxx',\n",
    "  scope=['https://analysis.windows.net/powerbi/api/.default'],\n",
    "  redirect_uri='https://localhost/redirect',\n",
    "  credentials=r'C:\\Users\\User\\Downloads\\anscombe.json')\n"
   ]
  },
  {
   "cell_type": "code",
   "execution_count": null,
   "id": "d5ef4374",
   "metadata": {},
   "outputs": [],
   "source": [
    "\n",
    "f=open(r'C:\\Users\\User\\Downloads\\anscombe.json') #accessing and storing the access_token present in the credentials json file\n",
    "                                                 #that was created above, for future use."
   ]
  },
  {
   "cell_type": "code",
   "execution_count": null,
   "id": "650cef30",
   "metadata": {},
   "outputs": [],
   "source": [
    "data=json.load(f)\n",
    "access_token=data['access_token']"
   ]
  },
  {
   "cell_type": "code",
   "execution_count": null,
   "id": "e8aa61f0",
   "metadata": {
    "scrolled": true
   },
   "outputs": [],
   "source": [
    "report_service=power_bi_client.reports()\n",
    "report_info_json=report_service.get_reports() #generates a json data of all reports currently published in User Workspace\n",
    "                                              #in Power BI account"
   ]
  },
  {
   "cell_type": "code",
   "execution_count": null,
   "id": "a8af373c",
   "metadata": {},
   "outputs": [
    {
     "data": {
      "text/plain": [
       "{'@odata.context': 'http://wabi-south-east-asia-redirect.analysis.windows.net/v1.0/myorg/$metadata#reports',\n",
       " 'value': [{'id': 'cb1aa14a-9f2c-4a77-9969-d8268f1772fd',\n",
       "   'reportType': 'PowerBIReport',\n",
       "   'name': 'EDA_powerbi',\n",
       "   'webUrl': 'https://app.powerbi.com/groups/me/reports/cb1aa14a-9f2c-4a77-9969-d8268f1772fd',\n",
       "   'embedUrl': 'https://app.powerbi.com/reportEmbed?reportId=cb1aa14a-9f2c-4a77-9969-d8268f1772fd&config=eyJjbHVzdGVyVXJsIjoiaHR0cHM6Ly9XQUJJLVNPVVRILUVBU1QtQVNJQS1yZWRpcmVjdC5hbmFseXNpcy53aW5kb3dzLm5ldCIsImVtYmVkRmVhdHVyZXMiOnsibW9kZXJuRW1iZWQiOnRydWUsInVzYWdlTWV0cmljc1ZOZXh0Ijp0cnVlfX0%3d',\n",
       "   'isOwnedByMe': True,\n",
       "   'datasetId': '38f1b068-112f-41cf-853a-858a89be7085',\n",
       "   'users': [],\n",
       "   'subscriptions': []},\n",
       "  {'id': 'fed3510c-9b45-4639-b699-4283a6acd33c',\n",
       "   'reportType': 'PowerBIReport',\n",
       "   'name': 'tgfcyv',\n",
       "   'webUrl': 'https://app.powerbi.com/groups/me/reports/fed3510c-9b45-4639-b699-4283a6acd33c',\n",
       "   'embedUrl': 'https://app.powerbi.com/reportEmbed?reportId=fed3510c-9b45-4639-b699-4283a6acd33c&config=eyJjbHVzdGVyVXJsIjoiaHR0cHM6Ly9XQUJJLVNPVVRILUVBU1QtQVNJQS1yZWRpcmVjdC5hbmFseXNpcy53aW5kb3dzLm5ldCIsImVtYmVkRmVhdHVyZXMiOnsibW9kZXJuRW1iZWQiOnRydWUsInVzYWdlTWV0cmljc1ZOZXh0Ijp0cnVlfX0%3d',\n",
       "   'isOwnedByMe': True,\n",
       "   'datasetId': 'd33b0c41-7b4c-4dd8-944f-502f3bddf1c4',\n",
       "   'users': [],\n",
       "   'subscriptions': []}]}"
      ]
     },
     "execution_count": 192,
     "metadata": {},
     "output_type": "execute_result"
    }
   ],
   "source": [
    "report_info_json"
   ]
  },
  {
   "attachments": {},
   "cell_type": "markdown",
   "id": "8b5afb3f",
   "metadata": {},
   "source": [
    "I'm interested in the report named 'EDA_powerbi'. To access it here, I would have to use it's embedUrl as present\n",
    "in the json output, along with the access_code as gathered eariler."
   ]
  },
  {
   "cell_type": "code",
   "execution_count": null,
   "id": "b151998f",
   "metadata": {},
   "outputs": [],
   "source": [
    "embed_url=report_info_json['value'][0]['embedUrl']\n",
    "#embed_url"
   ]
  },
  {
   "cell_type": "code",
   "execution_count": null,
   "id": "70d5fae9",
   "metadata": {},
   "outputs": [],
   "source": [
    "report=Report(embed_url=embed_url,access_token=access_token)"
   ]
  },
  {
   "cell_type": "code",
   "execution_count": null,
   "id": "03ae7866",
   "metadata": {
    "scrolled": false
   },
   "outputs": [
    {
     "data": {
      "application/vnd.jupyter.widget-view+json": {
       "model_id": "5e28f441cd3f41cbb66a20f2de4aaff8",
       "version_major": 2,
       "version_minor": 0
      },
      "text/plain": [
       "Report()"
      ]
     },
     "metadata": {},
     "output_type": "display_data"
    }
   ],
   "source": [
    "report\n",
    "#live responsive power bi report accessed"
   ]
  },
  {
   "cell_type": "code",
   "execution_count": null,
   "id": "adab849a",
   "metadata": {},
   "outputs": [
    {
     "data": {
      "text/plain": [
       "'ReportSection'"
      ]
     },
     "execution_count": 163,
     "metadata": {},
     "output_type": "execute_result"
    }
   ],
   "source": [
    "active_page=report.get_pages()[0]['name']\n",
    "active_page"
   ]
  },
  {
   "cell_type": "code",
   "execution_count": null,
   "id": "5ee06abe",
   "metadata": {},
   "outputs": [
    {
     "data": {
      "text/plain": [
       "[{'name': 'a4e6c8e2bd1060000010',\n",
       "  'title': 'Profit by Country',\n",
       "  'type': 'lineChart',\n",
       "  'layout': {'x': 22,\n",
       "   'y': 290,\n",
       "   'z': 0,\n",
       "   'width': 348,\n",
       "   'height': 408,\n",
       "   'displayState': {'mode': 0}}},\n",
       " {'name': 'b4d05cd0aa4b844d0e62',\n",
       "  'title': 'Card',\n",
       "  'type': 'card',\n",
       "  'layout': {'x': 22,\n",
       "   'y': 24,\n",
       "   'z': 1000,\n",
       "   'width': 348,\n",
       "   'height': 256,\n",
       "   'displayState': {'mode': 0}}},\n",
       " {'name': '6a16b80d0800a9340ea5',\n",
       "  'title': 'Card',\n",
       "  'type': 'card',\n",
       "  'layout': {'x': 386,\n",
       "   'y': 24,\n",
       "   'z': 2000,\n",
       "   'width': 304,\n",
       "   'height': 256,\n",
       "   'displayState': {'mode': 0}}},\n",
       " {'name': '125eeedf0505da903779',\n",
       "  'title': 'Card',\n",
       "  'type': 'card',\n",
       "  'layout': {'x': 708,\n",
       "   'y': 24,\n",
       "   'z': 3000,\n",
       "   'width': 192,\n",
       "   'height': 256,\n",
       "   'displayState': {'mode': 0}}},\n",
       " {'name': '52620c0bc0255d1053ce',\n",
       "  'title': 'Profit, Discounts and Units Sold by Product',\n",
       "  'type': 'barChart',\n",
       "  'layout': {'x': 384,\n",
       "   'y': 290,\n",
       "   'z': 4000,\n",
       "   'width': 516,\n",
       "   'height': 408,\n",
       "   'displayState': {'mode': 0}}},\n",
       " {'name': '5489e3fbb8aa5916a91b',\n",
       "  'title': 'Gross Sales and Profit by Month Name',\n",
       "  'type': 'areaChart',\n",
       "  'layout': {'x': 918,\n",
       "   'y': 290,\n",
       "   'z': 5000,\n",
       "   'width': 340,\n",
       "   'height': 408,\n",
       "   'displayState': {'mode': 0}}},\n",
       " {'name': '7b6f2081a0c641a71234',\n",
       "  'title': 'Profit and Profit by Year',\n",
       "  'type': 'donutChart',\n",
       "  'layout': {'x': 918,\n",
       "   'y': 24,\n",
       "   'z': 6000,\n",
       "   'width': 340,\n",
       "   'height': 256,\n",
       "   'displayState': {'mode': 0}}}]"
      ]
     },
     "execution_count": 167,
     "metadata": {},
     "output_type": "execute_result"
    }
   ],
   "source": [
    "visuals=report.visuals_on_page(active_page)\n",
    "visuals"
   ]
  },
  {
   "attachments": {},
   "cell_type": "markdown",
   "id": "8ffcbb8d",
   "metadata": {},
   "source": [
    "# Other stuff that can be accessed through the API."
   ]
  },
  {
   "attachments": {},
   "cell_type": "markdown",
   "id": "28094634",
   "metadata": {},
   "source": [
    "Honestly, this is just the tip of the iceberg. Feel free to play around with the REST API. Official documentation:\n",
    "    \n",
    "https://docs.microsoft.com/en-us/rest/api/power-bi/"
   ]
  },
  {
   "cell_type": "code",
   "execution_count": null,
   "id": "8e9c9449",
   "metadata": {},
   "outputs": [
    {
     "data": {
      "text/plain": [
       "{'@odata.context': 'http://wabi-south-east-asia-redirect.analysis.windows.net/v1.0/myorg/$metadata#groups',\n",
       " '@odata.count': 1,\n",
       " 'value': [{'id': '9d7d3f8f-982e-45c9-a85b-a379ff887f26',\n",
       "   'isReadOnly': False,\n",
       "   'isOnDedicatedCapacity': False,\n",
       "   'type': 'Workspace',\n",
       "   'name': 'SSQ'}]}"
      ]
     },
     "execution_count": 145,
     "metadata": {},
     "output_type": "execute_result"
    }
   ],
   "source": [
    "group_service=power_bi_client.groups()\n",
    "\n",
    "group_service.get_groups() #workspaces/groups along with their ID's"
   ]
  },
  {
   "cell_type": "code",
   "execution_count": null,
   "id": "eb900244",
   "metadata": {},
   "outputs": [
    {
     "data": {
      "text/plain": [
       "{'@odata.context': 'http://wabi-south-east-asia-redirect.analysis.windows.net/v1.0/myorg/$metadata#dashboards',\n",
       " 'value': [{'id': '8304d583-332f-4686-8dc9-06931ba43f40',\n",
       "   'displayName': 'my_new_dashboard',\n",
       "   'isReadOnly': False,\n",
       "   'webUrl': 'https://app.powerbi.com/groups/me/dashboards/8304d583-332f-4686-8dc9-06931ba43f40',\n",
       "   'embedUrl': 'https://app.powerbi.com/dashboardEmbed?dashboardId=8304d583-332f-4686-8dc9-06931ba43f40&config=eyJjbHVzdGVyVXJsIjoiaHR0cHM6Ly9XQUJJLVNPVVRILUVBU1QtQVNJQS1yZWRpcmVjdC5hbmFseXNpcy53aW5kb3dzLm5ldCIsImVtYmVkRmVhdHVyZXMiOnsibW9kZXJuRW1iZWQiOmZhbHNlfX0%3d',\n",
       "   'users': [],\n",
       "   'subscriptions': []},\n",
       "  {'id': '8e243120-f379-44b0-9af5-2dced720cd2b',\n",
       "   'displayName': 'sales-of-shampoo-over-a-three-ye.csv',\n",
       "   'isReadOnly': False,\n",
       "   'webUrl': 'https://app.powerbi.com/groups/me/dashboards/8e243120-f379-44b0-9af5-2dced720cd2b',\n",
       "   'embedUrl': 'https://app.powerbi.com/dashboardEmbed?dashboardId=8e243120-f379-44b0-9af5-2dced720cd2b&config=eyJjbHVzdGVyVXJsIjoiaHR0cHM6Ly9XQUJJLVNPVVRILUVBU1QtQVNJQS1yZWRpcmVjdC5hbmFseXNpcy53aW5kb3dzLm5ldCIsImVtYmVkRmVhdHVyZXMiOnsibW9kZXJuRW1iZWQiOmZhbHNlfX0%3d',\n",
       "   'users': [],\n",
       "   'subscriptions': []},\n",
       "  {'id': 'e7b389a6-d90a-47b5-a9de-4146ded28ef0',\n",
       "   'displayName': 'test',\n",
       "   'isReadOnly': False,\n",
       "   'webUrl': 'https://app.powerbi.com/groups/me/dashboards/e7b389a6-d90a-47b5-a9de-4146ded28ef0',\n",
       "   'embedUrl': 'https://app.powerbi.com/dashboardEmbed?dashboardId=e7b389a6-d90a-47b5-a9de-4146ded28ef0&config=eyJjbHVzdGVyVXJsIjoiaHR0cHM6Ly9XQUJJLVNPVVRILUVBU1QtQVNJQS1yZWRpcmVjdC5hbmFseXNpcy53aW5kb3dzLm5ldCIsImVtYmVkRmVhdHVyZXMiOnsibW9kZXJuRW1iZWQiOmZhbHNlfX0%3d',\n",
       "   'users': [],\n",
       "   'subscriptions': []},\n",
       "  {'id': '3e9eeecc-f5db-4602-b4b0-7a72872a4df3',\n",
       "   'displayName': 'my_new_dashboard',\n",
       "   'isReadOnly': False,\n",
       "   'webUrl': 'https://app.powerbi.com/groups/me/dashboards/3e9eeecc-f5db-4602-b4b0-7a72872a4df3',\n",
       "   'embedUrl': 'https://app.powerbi.com/dashboardEmbed?dashboardId=3e9eeecc-f5db-4602-b4b0-7a72872a4df3&config=eyJjbHVzdGVyVXJsIjoiaHR0cHM6Ly9XQUJJLVNPVVRILUVBU1QtQVNJQS1yZWRpcmVjdC5hbmFseXNpcy53aW5kb3dzLm5ldCIsImVtYmVkRmVhdHVyZXMiOnsibW9kZXJuRW1iZWQiOmZhbHNlfX0%3d',\n",
       "   'users': [],\n",
       "   'subscriptions': []},\n",
       "  {'id': '94229b6d-c2d1-4a8c-9a24-ae4ec6f4f1f7',\n",
       "   'displayName': 'my_new_dashboard',\n",
       "   'isReadOnly': False,\n",
       "   'webUrl': 'https://app.powerbi.com/groups/me/dashboards/94229b6d-c2d1-4a8c-9a24-ae4ec6f4f1f7',\n",
       "   'embedUrl': 'https://app.powerbi.com/dashboardEmbed?dashboardId=94229b6d-c2d1-4a8c-9a24-ae4ec6f4f1f7&config=eyJjbHVzdGVyVXJsIjoiaHR0cHM6Ly9XQUJJLVNPVVRILUVBU1QtQVNJQS1yZWRpcmVjdC5hbmFseXNpcy53aW5kb3dzLm5ldCIsImVtYmVkRmVhdHVyZXMiOnsibW9kZXJuRW1iZWQiOmZhbHNlfX0%3d',\n",
       "   'users': [],\n",
       "   'subscriptions': []}]}"
      ]
     },
     "execution_count": 146,
     "metadata": {},
     "output_type": "execute_result"
    }
   ],
   "source": [
    "dashboard_service=power_bi_client.dashboards()\n",
    "dashboard_service.get_dashboards() #dasboards along with their ID's"
   ]
  },
  {
   "attachments": {},
   "cell_type": "markdown",
   "id": "94248f20",
   "metadata": {},
   "source": [
    "<h3>FINAL THOUGHTS</h3>"
   ]
  },
  {
   "attachments": {},
   "cell_type": "markdown",
   "id": "ceb07d67",
   "metadata": {},
   "source": [
    "Other features include adding new tiles, dashboards and even creating a new dataset and pushing it to Power BI Workspace. The step by step guide can be found in the following video from Sigma Coding's You Tube channel:\n",
    "\n",
    "https://www.youtube.com/watch?v=gGDY8MNuK1w"
   ]
  }
 ],
 "metadata": {
  "kernelspec": {
   "display_name": "Python 3 (ipykernel)",
   "language": "python",
   "name": "python3"
  },
  "language_info": {
   "codemirror_mode": {
    "name": "ipython",
    "version": 3
   },
   "file_extension": ".py",
   "mimetype": "text/x-python",
   "name": "python",
   "nbconvert_exporter": "python",
   "pygments_lexer": "ipython3",
   "version": "3.8.10"
  }
 },
 "nbformat": 4,
 "nbformat_minor": 5
}
